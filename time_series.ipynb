{
 "cells": [
  {
   "cell_type": "code",
   "execution_count": 61,
   "metadata": {},
   "outputs": [],
   "source": [
    "import pandas as pd\n",
    "import numpy as np\n",
    "from math import radians, cos, sin, asin, sqrt\n",
    "import random\n",
    "import alphashape\n",
    "import geopandas as gpd\n",
    "from shapely.geometry import Point\n",
    "import matplotlib\n",
    "import pyproj\n",
    "import folium\n",
    "\n",
    "fire = (37.261672, 127.030887) # 300m radius\n",
    "fire_center = Point(fire[1], fire[0])\n",
    "\n",
    "def get_geom_point(geom):\n",
    "\treturn (geom.y, geom.x)\n",
    "\n",
    "def haversine_distance(point, center, xy):\n",
    "\tif xy == True:\n",
    "\t\t# latitude, longitude\n",
    "\t\tlat1, lon1, lat2, lon2 = map(radians, [point[0], point[1], center[0], center[1]])\n",
    "\telse:\n",
    "\t\t# shapely point : longitude, latitude\n",
    "\t\tp = get_geom_point(point)\n",
    "\t\tc = get_geom_point(center)\n",
    "\t\tlat1, lon1, lat2, lon2 = map(radians, [p[0], p[1], c[0], c[1]])\n",
    "\t\t\n",
    "\tdel_lat = lat1 - lat2\n",
    "\tdel_lon = lon1 - lon2\n",
    "\n",
    "\ta = sin(del_lat / 2) ** 2 + cos(lat1) * cos(lat2) * sin(del_lon / 2) **2\n",
    "\tc = 2 * asin(sqrt(a))\n",
    "\tr = 6371 # radius of earth in km\n",
    "\treturn c * r * 1000 #return m"
   ]
  },
  {
   "cell_type": "code",
   "execution_count": 62,
   "metadata": {},
   "outputs": [],
   "source": [
    "def get_data():\n",
    "\td_list = []\n",
    "\tfor i in range(0, 5):\n",
    "\t\tfilename = \"./data/time_random\" + str(i) + \".csv\"\n",
    "\t\td = pd.read_csv(filename, usecols=['latitude', 'longitude']).values.tolist()\n",
    "\t\tif i > 0:\n",
    "\t\t\tfor point in d:\n",
    "\t\t\t\tif haversine_distance(point, fire, xy=True) <= i * 100:\n",
    "\t\t\t\t\t# if random.random() < 0.9:\n",
    "\t\t\t\t\td.remove(point)\n",
    "\t\t# print(len(d))\n",
    "\t\td_list.append(d)\n",
    "\n",
    "\treturn d_list"
   ]
  },
  {
   "cell_type": "code",
   "execution_count": 63,
   "metadata": {},
   "outputs": [],
   "source": [
    "d_list = get_data()"
   ]
  },
  {
   "cell_type": "code",
   "execution_count": 64,
   "metadata": {},
   "outputs": [],
   "source": [
    "def timewise_hull(gdf, j):\n",
    "\t# print(gdf.crs)\n",
    "\t# '+proj=aea +lat_1=29.5 +lat_2=42.5'\n",
    "\t# proj_gdf = gdf.to_crs('epsg:5179')\n",
    "\t# print(proj_gdf.iat[2, 0].distance(proj_gdf.iat[3, 0]))\n",
    "\n",
    "\tinside_points = [p for p in gdf['geometry'] if haversine_distance(p, fire_center, xy=False) <= (j + 1) * 100]\n",
    "\tinside_gdf = gpd.GeoDataFrame({'geometry':inside_points}, crs=4326).to_crs('+proj=aea +lat_1=29.5 +lat_2=42.5')\n",
    "\thull = alphashape.alphashape(inside_gdf)\n",
    "\thull = hull.to_crs('epsg:4326')\n",
    "\treturn hull"
   ]
  },
  {
   "cell_type": "code",
   "execution_count": 65,
   "metadata": {},
   "outputs": [
    {
     "data": {
      "text/plain": [
       "<folium.vector_layers.Circle at 0x1a6f1035330>"
      ]
     },
     "execution_count": 65,
     "metadata": {},
     "output_type": "execute_result"
    }
   ],
   "source": [
    "fmap = folium.Map(location=fire, tiles=\"Stamen Toner\", zoom_start=17, width=800, height=600)\n",
    "folium.Circle(fire, tooltip='fire', radius=300, color='red', fill_color='red').add_to(fmap)"
   ]
  },
  {
   "cell_type": "code",
   "execution_count": 66,
   "metadata": {},
   "outputs": [],
   "source": [
    "def show_users_map(data):\n",
    "\tfor u in data:\n",
    "\t\tfolium.Circle(u, radius=2).add_to(fmap)\n",
    "\n",
    "def show_hull_map(hull):\n",
    "\ta = hull.iat[0, 0].exterior.coords\n",
    "\thull_print = [(a[i][1], a[i][0]) for i in range(0, len(a))]\n",
    "\tfolium.Polygon(hull_print, fill_color='blue').add_to(fmap)\n"
   ]
  },
  {
   "cell_type": "code",
   "execution_count": 67,
   "metadata": {},
   "outputs": [
    {
     "ename": "TypeError",
     "evalue": "timewise_hull() takes 1 positional argument but 2 were given",
     "output_type": "error",
     "traceback": [
      "\u001b[1;31m---------------------------------------------------------------------------\u001b[0m",
      "\u001b[1;31mTypeError\u001b[0m                                 Traceback (most recent call last)",
      "\u001b[1;32md:\\code\\concave\\time_series.ipynb Cell 7'\u001b[0m in \u001b[0;36m<cell line: 1>\u001b[1;34m()\u001b[0m\n\u001b[0;32m      <a href='vscode-notebook-cell:/d%3A/code/concave/time_series.ipynb#ch0000004?line=2'>3</a>\u001b[0m gdf \u001b[39m=\u001b[39m gpd\u001b[39m.\u001b[39mGeoDataFrame({\u001b[39m'\u001b[39m\u001b[39mgeometry\u001b[39m\u001b[39m'\u001b[39m:p}, crs\u001b[39m=\u001b[39m\u001b[39m4326\u001b[39m)\n\u001b[0;32m      <a href='vscode-notebook-cell:/d%3A/code/concave/time_series.ipynb#ch0000004?line=3'>4</a>\u001b[0m \u001b[39m# print(haversine_distance(j[2], j[3], xy=True))\u001b[39;00m\n\u001b[1;32m----> <a href='vscode-notebook-cell:/d%3A/code/concave/time_series.ipynb#ch0000004?line=4'>5</a>\u001b[0m hull \u001b[39m=\u001b[39m timewise_hull(gdf, j)\n\u001b[0;32m      <a href='vscode-notebook-cell:/d%3A/code/concave/time_series.ipynb#ch0000004?line=5'>6</a>\u001b[0m show_hull_map(hull)\n",
      "\u001b[1;31mTypeError\u001b[0m: timewise_hull() takes 1 positional argument but 2 were given"
     ]
    }
   ],
   "source": [
    "for j in range(0, len(d_list)):\n",
    "\tp = [Point(d_list[j][i][1], d_list[j][i][0]) for i in range(0, len(d_list[j]))]\n",
    "\tgdf = gpd.GeoDataFrame({'geometry':p}, crs=4326)\n",
    "\t# print(haversine_distance(j[2], j[3], xy=True))\n",
    "\thull = timewise_hull(gdf, j)\n",
    "\tshow_hull_map(hull)\n",
    "# j = d_list[1]\n",
    "# p = [Point(j[i][1], j[i][0]) for i in range(0, len(j))]\n",
    "# gdf = gpd.GeoDataFrame({'geometry':p}, crs=4326)\n",
    "# \t# print(haversine_distance(j[2], j[3], xy=True))\n",
    "# hull = timewise_hull(gdf)"
   ]
  },
  {
   "cell_type": "code",
   "execution_count": null,
   "metadata": {},
   "outputs": [
    {
     "data": {
      "text/html": [
       "<div style=\"width:100%;\"><div style=\"position:relative;width:100%;height:0;padding-bottom:60%;\"><span style=\"color:#565656\">Make this Notebook Trusted to load map: File -> Trust Notebook</span><iframe src=\"about:blank\" style=\"position:absolute;width:100%;height:100%;left:0;top:0;border:none !important;\" data-html=%3C%21DOCTYPE%20html%3E%0A%3Chead%3E%20%20%20%20%0A%20%20%20%20%3Cmeta%20http-equiv%3D%22content-type%22%20content%3D%22text/html%3B%20charset%3DUTF-8%22%20/%3E%0A%20%20%20%20%0A%20%20%20%20%20%20%20%20%3Cscript%3E%0A%20%20%20%20%20%20%20%20%20%20%20%20L_NO_TOUCH%20%3D%20false%3B%0A%20%20%20%20%20%20%20%20%20%20%20%20L_DISABLE_3D%20%3D%20false%3B%0A%20%20%20%20%20%20%20%20%3C/script%3E%0A%20%20%20%20%0A%20%20%20%20%3Cstyle%3Ehtml%2C%20body%20%7Bwidth%3A%20100%25%3Bheight%3A%20100%25%3Bmargin%3A%200%3Bpadding%3A%200%3B%7D%3C/style%3E%0A%20%20%20%20%3Cstyle%3E%23map%20%7Bposition%3Aabsolute%3Btop%3A0%3Bbottom%3A0%3Bright%3A0%3Bleft%3A0%3B%7D%3C/style%3E%0A%20%20%20%20%3Cscript%20src%3D%22https%3A//cdn.jsdelivr.net/npm/leaflet%401.6.0/dist/leaflet.js%22%3E%3C/script%3E%0A%20%20%20%20%3Cscript%20src%3D%22https%3A//code.jquery.com/jquery-1.12.4.min.js%22%3E%3C/script%3E%0A%20%20%20%20%3Cscript%20src%3D%22https%3A//maxcdn.bootstrapcdn.com/bootstrap/3.2.0/js/bootstrap.min.js%22%3E%3C/script%3E%0A%20%20%20%20%3Cscript%20src%3D%22https%3A//cdnjs.cloudflare.com/ajax/libs/Leaflet.awesome-markers/2.0.2/leaflet.awesome-markers.js%22%3E%3C/script%3E%0A%20%20%20%20%3Clink%20rel%3D%22stylesheet%22%20href%3D%22https%3A//cdn.jsdelivr.net/npm/leaflet%401.6.0/dist/leaflet.css%22/%3E%0A%20%20%20%20%3Clink%20rel%3D%22stylesheet%22%20href%3D%22https%3A//maxcdn.bootstrapcdn.com/bootstrap/3.2.0/css/bootstrap.min.css%22/%3E%0A%20%20%20%20%3Clink%20rel%3D%22stylesheet%22%20href%3D%22https%3A//maxcdn.bootstrapcdn.com/bootstrap/3.2.0/css/bootstrap-theme.min.css%22/%3E%0A%20%20%20%20%3Clink%20rel%3D%22stylesheet%22%20href%3D%22https%3A//maxcdn.bootstrapcdn.com/font-awesome/4.6.3/css/font-awesome.min.css%22/%3E%0A%20%20%20%20%3Clink%20rel%3D%22stylesheet%22%20href%3D%22https%3A//cdnjs.cloudflare.com/ajax/libs/Leaflet.awesome-markers/2.0.2/leaflet.awesome-markers.css%22/%3E%0A%20%20%20%20%3Clink%20rel%3D%22stylesheet%22%20href%3D%22https%3A//cdn.jsdelivr.net/gh/python-visualization/folium/folium/templates/leaflet.awesome.rotate.min.css%22/%3E%0A%20%20%20%20%0A%20%20%20%20%20%20%20%20%20%20%20%20%3Cmeta%20name%3D%22viewport%22%20content%3D%22width%3Ddevice-width%2C%0A%20%20%20%20%20%20%20%20%20%20%20%20%20%20%20%20initial-scale%3D1.0%2C%20maximum-scale%3D1.0%2C%20user-scalable%3Dno%22%20/%3E%0A%20%20%20%20%20%20%20%20%20%20%20%20%3Cstyle%3E%0A%20%20%20%20%20%20%20%20%20%20%20%20%20%20%20%20%23map_ca889929705d44d68ece0ad17de9e08d%20%7B%0A%20%20%20%20%20%20%20%20%20%20%20%20%20%20%20%20%20%20%20%20position%3A%20relative%3B%0A%20%20%20%20%20%20%20%20%20%20%20%20%20%20%20%20%20%20%20%20width%3A%20800.0px%3B%0A%20%20%20%20%20%20%20%20%20%20%20%20%20%20%20%20%20%20%20%20height%3A%20600.0px%3B%0A%20%20%20%20%20%20%20%20%20%20%20%20%20%20%20%20%20%20%20%20left%3A%200.0%25%3B%0A%20%20%20%20%20%20%20%20%20%20%20%20%20%20%20%20%20%20%20%20top%3A%200.0%25%3B%0A%20%20%20%20%20%20%20%20%20%20%20%20%20%20%20%20%7D%0A%20%20%20%20%20%20%20%20%20%20%20%20%3C/style%3E%0A%20%20%20%20%20%20%20%20%0A%3C/head%3E%0A%3Cbody%3E%20%20%20%20%0A%20%20%20%20%0A%20%20%20%20%20%20%20%20%20%20%20%20%3Cdiv%20class%3D%22folium-map%22%20id%3D%22map_ca889929705d44d68ece0ad17de9e08d%22%20%3E%3C/div%3E%0A%20%20%20%20%20%20%20%20%0A%3C/body%3E%0A%3Cscript%3E%20%20%20%20%0A%20%20%20%20%0A%20%20%20%20%20%20%20%20%20%20%20%20var%20map_ca889929705d44d68ece0ad17de9e08d%20%3D%20L.map%28%0A%20%20%20%20%20%20%20%20%20%20%20%20%20%20%20%20%22map_ca889929705d44d68ece0ad17de9e08d%22%2C%0A%20%20%20%20%20%20%20%20%20%20%20%20%20%20%20%20%7B%0A%20%20%20%20%20%20%20%20%20%20%20%20%20%20%20%20%20%20%20%20center%3A%20%5B37.261672%2C%20127.030887%5D%2C%0A%20%20%20%20%20%20%20%20%20%20%20%20%20%20%20%20%20%20%20%20crs%3A%20L.CRS.EPSG3857%2C%0A%20%20%20%20%20%20%20%20%20%20%20%20%20%20%20%20%20%20%20%20zoom%3A%2017%2C%0A%20%20%20%20%20%20%20%20%20%20%20%20%20%20%20%20%20%20%20%20zoomControl%3A%20true%2C%0A%20%20%20%20%20%20%20%20%20%20%20%20%20%20%20%20%20%20%20%20preferCanvas%3A%20false%2C%0A%20%20%20%20%20%20%20%20%20%20%20%20%20%20%20%20%7D%0A%20%20%20%20%20%20%20%20%20%20%20%20%29%3B%0A%0A%20%20%20%20%20%20%20%20%20%20%20%20%0A%0A%20%20%20%20%20%20%20%20%0A%20%20%20%20%0A%20%20%20%20%20%20%20%20%20%20%20%20var%20tile_layer_85445cf216cc4450b1c3a1c87eb31acb%20%3D%20L.tileLayer%28%0A%20%20%20%20%20%20%20%20%20%20%20%20%20%20%20%20%22https%3A//stamen-tiles-%7Bs%7D.a.ssl.fastly.net/toner/%7Bz%7D/%7Bx%7D/%7By%7D.png%22%2C%0A%20%20%20%20%20%20%20%20%20%20%20%20%20%20%20%20%7B%22attribution%22%3A%20%22Map%20tiles%20by%20%5Cu003ca%20href%3D%5C%22http%3A//stamen.com%5C%22%5Cu003eStamen%20Design%5Cu003c/a%5Cu003e%2C%20under%20%5Cu003ca%20href%3D%5C%22http%3A//creativecommons.org/licenses/by/3.0%5C%22%5Cu003eCC%20BY%203.0%5Cu003c/a%5Cu003e.%20Data%20by%20%5Cu0026copy%3B%20%5Cu003ca%20href%3D%5C%22http%3A//openstreetmap.org%5C%22%5Cu003eOpenStreetMap%5Cu003c/a%5Cu003e%2C%20under%20%5Cu003ca%20href%3D%5C%22http%3A//www.openstreetmap.org/copyright%5C%22%5Cu003eODbL%5Cu003c/a%5Cu003e.%22%2C%20%22detectRetina%22%3A%20false%2C%20%22maxNativeZoom%22%3A%2018%2C%20%22maxZoom%22%3A%2018%2C%20%22minZoom%22%3A%200%2C%20%22noWrap%22%3A%20false%2C%20%22opacity%22%3A%201%2C%20%22subdomains%22%3A%20%22abc%22%2C%20%22tms%22%3A%20false%7D%0A%20%20%20%20%20%20%20%20%20%20%20%20%29.addTo%28map_ca889929705d44d68ece0ad17de9e08d%29%3B%0A%20%20%20%20%20%20%20%20%0A%20%20%20%20%0A%20%20%20%20%20%20%20%20%20%20%20%20var%20circle_58104d3f7d88452f9da51d34d8088a0b%20%3D%20L.circle%28%0A%20%20%20%20%20%20%20%20%20%20%20%20%20%20%20%20%5B37.261672%2C%20127.030887%5D%2C%0A%20%20%20%20%20%20%20%20%20%20%20%20%20%20%20%20%7B%22bubblingMouseEvents%22%3A%20true%2C%20%22color%22%3A%20%22red%22%2C%20%22dashArray%22%3A%20null%2C%20%22dashOffset%22%3A%20null%2C%20%22fill%22%3A%20true%2C%20%22fillColor%22%3A%20%22red%22%2C%20%22fillOpacity%22%3A%200.2%2C%20%22fillRule%22%3A%20%22evenodd%22%2C%20%22lineCap%22%3A%20%22round%22%2C%20%22lineJoin%22%3A%20%22round%22%2C%20%22opacity%22%3A%201.0%2C%20%22radius%22%3A%20300%2C%20%22stroke%22%3A%20true%2C%20%22weight%22%3A%203%7D%0A%20%20%20%20%20%20%20%20%20%20%20%20%29.addTo%28map_ca889929705d44d68ece0ad17de9e08d%29%3B%0A%20%20%20%20%20%20%20%20%0A%20%20%20%20%0A%20%20%20%20%20%20%20%20%20%20%20%20circle_58104d3f7d88452f9da51d34d8088a0b.bindTooltip%28%0A%20%20%20%20%20%20%20%20%20%20%20%20%20%20%20%20%60%3Cdiv%3E%0A%20%20%20%20%20%20%20%20%20%20%20%20%20%20%20%20%20%20%20%20%20fire%0A%20%20%20%20%20%20%20%20%20%20%20%20%20%20%20%20%20%3C/div%3E%60%2C%0A%20%20%20%20%20%20%20%20%20%20%20%20%20%20%20%20%7B%22sticky%22%3A%20true%7D%0A%20%20%20%20%20%20%20%20%20%20%20%20%29%3B%0A%20%20%20%20%20%20%20%20%0A%20%20%20%20%0A%20%20%20%20%20%20%20%20%20%20%20%20var%20polygon_d08a31b4a0964f10967cd8ab57db85a5%20%3D%20L.polygon%28%0A%20%20%20%20%20%20%20%20%20%20%20%20%20%20%20%20%5B%5B37.259096459999945%2C%20127.03108162999999%5D%2C%20%5B37.259061140000014%2C%20127.03083688%5D%2C%20%5B37.25949447000001%2C%20127.03045361999997%5D%2C%20%5B37.25994803%2C%20127.03062040000002%5D%2C%20%5B37.25996772000001%2C%20127.02964482%5D%2C%20%5B37.25931420000002%2C%20127.02960891999999%5D%2C%20%5B37.259733430000004%2C%20127.02882999999997%5D%2C%20%5B37.26029419999999%2C%20127.02887651999997%5D%2C%20%5B37.260436720000044%2C%20127.02796783999997%5D%2C%20%5B37.261085849999986%2C%20127.02763463%5D%2C%20%5B37.26169030999999%2C%20127.02763047999998%5D%2C%20%5B37.26235871999995%2C%20127.02786525000002%5D%2C%20%5B37.26293699999998%2C%20127.0279004%5D%2C%20%5B37.262855579999965%2C%20127.02809280000001%5D%2C%20%5B37.26283991%2C%20127.02870857999996%5D%2C%20%5B37.26352640000006%2C%20127.02867647%5D%2C%20%5B37.263586880000005%2C%20127.02852613999998%5D%2C%20%5B37.2639192%2C%20127.02903719999999%5D%2C%20%5B37.263951119999966%2C%20127.0295154%5D%2C%20%5B37.263360450000015%2C%20127.02978463999999%5D%2C%20%5B37.26373117%2C%20127.03059647%5D%2C%20%5B37.26398085999999%2C%20127.03081801999998%5D%2C%20%5B37.26424063999995%2C%20127.03119501%5D%2C%20%5B37.26427812000001%2C%20127.03147599999997%5D%2C%20%5B37.26414742999998%2C%20127.03148738000002%5D%2C%20%5B37.26387898999999%2C%20127.03223878%5D%2C%20%5B37.26363212000001%2C%20127.03246079%5D%2C%20%5B37.26338476000002%2C%20127.03290278%5D%2C%20%5B37.26348179999998%2C%20127.03333160999999%5D%2C%20%5B37.26310626000002%2C%20127.03347876000001%5D%2C%20%5B37.262413959999996%2C%20127.03329816999997%5D%2C%20%5B37.2623324%2C%20127.03416584%5D%2C%20%5B37.26210349%2C%20127.03399394000002%5D%2C%20%5B37.261641440000005%2C%20127.03402982000001%5D%2C%20%5B37.261211190000026%2C%20127.03401791999997%5D%2C%20%5B37.26093010999997%2C%20127.03400291999998%5D%2C%20%5B37.26045882000001%2C%20127.03350958999998%5D%2C%20%5B37.25994339999999%2C%20127.03297341999999%5D%2C%20%5B37.25964614000001%2C%20127.03264651%5D%2C%20%5B37.25915401000005%2C%20127.03204775999997%5D%2C%20%5B37.259096459999945%2C%20127.03108162999999%5D%5D%2C%0A%20%20%20%20%20%20%20%20%20%20%20%20%20%20%20%20%7B%22bubblingMouseEvents%22%3A%20true%2C%20%22color%22%3A%20%22%233388ff%22%2C%20%22dashArray%22%3A%20null%2C%20%22dashOffset%22%3A%20null%2C%20%22fill%22%3A%20true%2C%20%22fillColor%22%3A%20%22blue%22%2C%20%22fillOpacity%22%3A%200.2%2C%20%22fillRule%22%3A%20%22evenodd%22%2C%20%22lineCap%22%3A%20%22round%22%2C%20%22lineJoin%22%3A%20%22round%22%2C%20%22noClip%22%3A%20false%2C%20%22opacity%22%3A%201.0%2C%20%22smoothFactor%22%3A%201.0%2C%20%22stroke%22%3A%20true%2C%20%22weight%22%3A%203%7D%0A%20%20%20%20%20%20%20%20%20%20%20%20%29.addTo%28map_ca889929705d44d68ece0ad17de9e08d%29%3B%0A%20%20%20%20%20%20%20%20%0A%20%20%20%20%0A%20%20%20%20%20%20%20%20%20%20%20%20var%20polygon_29c34c38ab6841faa15cb46300a1d9c9%20%3D%20L.polygon%28%0A%20%20%20%20%20%20%20%20%20%20%20%20%20%20%20%20%5B%5B37.260991870000055%2C%20127.02773483%5D%2C%20%5B37.26128652999999%2C%20127.02769628000001%5D%2C%20%5B37.26163807999997%2C%20127.02779389999999%5D%2C%20%5B37.261788490000015%2C%20127.02778282999999%5D%2C%20%5B37.262018359999985%2C%20127.02772759%5D%2C%20%5B37.261531579999975%2C%20127.02837543%5D%2C%20%5B37.26188372999999%2C%20127.02890679%5D%2C%20%5B37.26264454999997%2C%20127.02870704999998%5D%2C%20%5B37.26225053000002%2C%20127.02780554999997%5D%2C%20%5B37.26254531999999%2C%20127.02782900999999%5D%2C%20%5B37.262792090000026%2C%20127.02839902000001%5D%2C%20%5B37.26358028999998%2C%20127.02862158999997%5D%2C%20%5B37.26359276999999%2C%20127.02933876999997%5D%2C%20%5B37.26376304999999%2C%20127.02953864000001%5D%2C%20%5B37.26410236000002%2C%20127.02990548%5D%2C%20%5B37.264156060000026%2C%20127.03034056999998%5D%2C%20%5B37.26433479%2C%20127.03072533000001%5D%2C%20%5B37.26368587000001%2C%20127.03150550999999%5D%2C%20%5B37.26373769999998%2C%20127.03230995999998%5D%2C%20%5B37.263630840000026%2C%20127.03285611%5D%2C%20%5B37.263280080000015%2C%20127.03350223%5D%2C%20%5B37.26290298999997%2C%20127.03343737%5D%2C%20%5B37.26244288999997%2C%20127.03385460999999%5D%2C%20%5B37.261950420000026%2C%20127.03413968999998%5D%2C%20%5B37.261391550000035%2C%20127.03419828%5D%2C%20%5B37.26084003000001%2C%20127.03348672999998%5D%2C%20%5B37.26044750000003%2C%20127.03367519999999%5D%2C%20%5B37.26028482%2C%20127.03364378999997%5D%2C%20%5B37.259710619999986%2C%20127.03292230000001%5D%2C%20%5B37.25938439999998%2C%20127.03257508%5D%2C%20%5B37.25921335000002%2C%20127.03217193000002%5D%2C%20%5B37.25938676999998%2C%20127.0314606%5D%2C%20%5B37.259130270000014%2C%20127.03080345%5D%2C%20%5B37.25957348000004%2C%20127.03040764%5D%2C%20%5B37.25953318000002%2C%20127.02959895000001%5D%2C%20%5B37.25961004000005%2C%20127.02896315999998%5D%2C%20%5B37.25995322999997%2C%20127.02871922%5D%2C%20%5B37.260310230000016%2C%20127.02832803999996%5D%2C%20%5B37.260400119999986%2C%20127.02792735%5D%2C%20%5B37.260709380000016%2C%20127.02774500999999%5D%2C%20%5B37.260991870000055%2C%20127.02773483%5D%5D%2C%0A%20%20%20%20%20%20%20%20%20%20%20%20%20%20%20%20%7B%22bubblingMouseEvents%22%3A%20true%2C%20%22color%22%3A%20%22%233388ff%22%2C%20%22dashArray%22%3A%20null%2C%20%22dashOffset%22%3A%20null%2C%20%22fill%22%3A%20true%2C%20%22fillColor%22%3A%20%22blue%22%2C%20%22fillOpacity%22%3A%200.2%2C%20%22fillRule%22%3A%20%22evenodd%22%2C%20%22lineCap%22%3A%20%22round%22%2C%20%22lineJoin%22%3A%20%22round%22%2C%20%22noClip%22%3A%20false%2C%20%22opacity%22%3A%201.0%2C%20%22smoothFactor%22%3A%201.0%2C%20%22stroke%22%3A%20true%2C%20%22weight%22%3A%203%7D%0A%20%20%20%20%20%20%20%20%20%20%20%20%29.addTo%28map_ca889929705d44d68ece0ad17de9e08d%29%3B%0A%20%20%20%20%20%20%20%20%0A%20%20%20%20%0A%20%20%20%20%20%20%20%20%20%20%20%20var%20polygon_b8ff5e131c124c11adab83e96f4547f4%20%3D%20L.polygon%28%0A%20%20%20%20%20%20%20%20%20%20%20%20%20%20%20%20%5B%5B37.26407915000004%2C%20127.03079230999998%5D%2C%20%5B37.26415493000003%2C%20127.03099575000002%5D%2C%20%5B37.26402119999996%2C%20127.03202591999997%5D%2C%20%5B37.26391908999998%2C%20127.03226178999998%5D%2C%20%5B37.263683120000024%2C%20127.03304631%5D%2C%20%5B37.263675469999995%2C%20127.03311255999998%5D%2C%20%5B37.26338718000001%2C%20127.03335606999997%5D%2C%20%5B37.26332433000001%2C%20127.03348435%5D%2C%20%5B37.26247721000003%2C%20127.03369661%5D%2C%20%5B37.26234148999996%2C%20127.03393056000002%5D%2C%20%5B37.26170396%2C%20127.03382810999997%5D%2C%20%5B37.26135270999997%2C%20127.03396178999999%5D%2C%20%5B37.26083114000002%2C%20127.03360167999998%5D%2C%20%5B37.26034336999997%2C%20127.03376324999998%5D%2C%20%5B37.260203980000036%2C%20127.03325241%5D%2C%20%5B37.25969034%2C%20127.03307251999998%5D%2C%20%5B37.25953440999999%2C%20127.03292053%5D%2C%20%5B37.259399319999964%2C%20127.03271082999998%5D%2C%20%5B37.25930780000001%2C%20127.03250809000001%5D%2C%20%5B37.25955228000002%2C%20127.03135408%5D%2C%20%5B37.259405659999985%2C%20127.03116886%5D%2C%20%5B37.25908911000004%2C%20127.03088478999999%5D%2C%20%5B37.25911301%2C%20127.03073025999998%5D%2C%20%5B37.259187549999986%2C%20127.02982189999997%5D%2C%20%5B37.25939320999994%2C%20127.02924576000001%5D%2C%20%5B37.25968179999999%2C%20127.0288381%5D%2C%20%5B37.25989519000001%2C%20127.02847842999999%5D%2C%20%5B37.26019254000001%2C%20127.02818299%5D%2C%20%5B37.26078603000004%2C%20127.02852253999998%5D%2C%20%5B37.26113523000003%2C%20127.02810458000002%5D%2C%20%5B37.26128410000005%2C%20127.02756389000001%5D%2C%20%5B37.26171886999996%2C%20127.02752116999997%5D%2C%20%5B37.26199616000001%2C%20127.02752399999997%5D%2C%20%5B37.26221883000002%2C%20127.02787181999999%5D%2C%20%5B37.26236218999996%2C%20127.02807887999997%5D%2C%20%5B37.26274014000002%2C%20127.02821159999999%5D%2C%20%5B37.26351655999999%2C%20127.02866799999998%5D%2C%20%5B37.26374117999999%2C%20127.02903982%5D%2C%20%5B37.26339397000001%2C%20127.02969713000002%5D%2C%20%5B37.26410171000001%2C%20127.03035661999999%5D%2C%20%5B37.26407915000004%2C%20127.03079230999998%5D%5D%2C%0A%20%20%20%20%20%20%20%20%20%20%20%20%20%20%20%20%7B%22bubblingMouseEvents%22%3A%20true%2C%20%22color%22%3A%20%22%233388ff%22%2C%20%22dashArray%22%3A%20null%2C%20%22dashOffset%22%3A%20null%2C%20%22fill%22%3A%20true%2C%20%22fillColor%22%3A%20%22blue%22%2C%20%22fillOpacity%22%3A%200.2%2C%20%22fillRule%22%3A%20%22evenodd%22%2C%20%22lineCap%22%3A%20%22round%22%2C%20%22lineJoin%22%3A%20%22round%22%2C%20%22noClip%22%3A%20false%2C%20%22opacity%22%3A%201.0%2C%20%22smoothFactor%22%3A%201.0%2C%20%22stroke%22%3A%20true%2C%20%22weight%22%3A%203%7D%0A%20%20%20%20%20%20%20%20%20%20%20%20%29.addTo%28map_ca889929705d44d68ece0ad17de9e08d%29%3B%0A%20%20%20%20%20%20%20%20%0A%20%20%20%20%0A%20%20%20%20%20%20%20%20%20%20%20%20var%20polygon_19764f0468164bbf94079d3f70db5b4e%20%3D%20L.polygon%28%0A%20%20%20%20%20%20%20%20%20%20%20%20%20%20%20%20%5B%5B37.260499209999985%2C%20127.03358507%5D%2C%20%5B37.260234929999996%2C%20127.03322673999999%5D%2C%20%5B37.25917300999995%2C%20127.03153656%5D%2C%20%5B37.25906660999997%2C%20127.03007351999997%5D%2C%20%5B37.259286099999976%2C%20127.02965585%5D%2C%20%5B37.25931803999996%2C%20127.02954709000001%5D%2C%20%5B37.26014302%2C%20127.02908509000001%5D%2C%20%5B37.26170661%2C%20127.02822622000001%5D%2C%20%5B37.26166207000001%2C%20127.02757714%5D%2C%20%5B37.26223399%2C%20127.02891591999999%5D%2C%20%5B37.26290529000005%2C%20127.02936249999998%5D%2C%20%5B37.262959989999985%2C%20127.03080778999998%5D%2C%20%5B37.26366603000001%2C%20127.03158251000002%5D%2C%20%5B37.26387338999997%2C%20127.03172457999999%5D%2C%20%5B37.26289380000002%2C%20127.03198127000002%5D%2C%20%5B37.26260654000001%2C%20127.03375704000001%5D%2C%20%5B37.26210110000002%2C%20127.03326268%5D%2C%20%5B37.260499209999985%2C%20127.03358507%5D%5D%2C%0A%20%20%20%20%20%20%20%20%20%20%20%20%20%20%20%20%7B%22bubblingMouseEvents%22%3A%20true%2C%20%22color%22%3A%20%22%233388ff%22%2C%20%22dashArray%22%3A%20null%2C%20%22dashOffset%22%3A%20null%2C%20%22fill%22%3A%20true%2C%20%22fillColor%22%3A%20%22blue%22%2C%20%22fillOpacity%22%3A%200.2%2C%20%22fillRule%22%3A%20%22evenodd%22%2C%20%22lineCap%22%3A%20%22round%22%2C%20%22lineJoin%22%3A%20%22round%22%2C%20%22noClip%22%3A%20false%2C%20%22opacity%22%3A%201.0%2C%20%22smoothFactor%22%3A%201.0%2C%20%22stroke%22%3A%20true%2C%20%22weight%22%3A%203%7D%0A%20%20%20%20%20%20%20%20%20%20%20%20%29.addTo%28map_ca889929705d44d68ece0ad17de9e08d%29%3B%0A%20%20%20%20%20%20%20%20%0A%20%20%20%20%0A%20%20%20%20%20%20%20%20%20%20%20%20var%20polygon_a375accc5cd346d69063fc7af9467144%20%3D%20L.polygon%28%0A%20%20%20%20%20%20%20%20%20%20%20%20%20%20%20%20%5B%5B37.262797639999995%2C%20127.02823775%5D%2C%20%5B37.26325759000005%2C%20127.02824172999999%5D%2C%20%5B37.26335931%2C%20127.02875867999998%5D%2C%20%5B37.26337058000001%2C%20127.02945231%5D%2C%20%5B37.263642790000006%2C%20127.03066213%5D%2C%20%5B37.26383581000002%2C%20127.03143040999998%5D%2C%20%5B37.26389402000002%2C%20127.03166765999997%5D%2C%20%5B37.26341722%2C%20127.03277369999999%5D%2C%20%5B37.26308221000003%2C%20127.03200202000001%5D%2C%20%5B37.26211668999998%2C%20127.03279376000002%5D%2C%20%5B37.262014170000015%2C%20127.03354134999998%5D%2C%20%5B37.26150774000003%2C%20127.0332989%5D%2C%20%5B37.26101944000001%2C%20127.03349576999999%5D%2C%20%5B37.259835989999985%2C%20127.03333602%5D%2C%20%5B37.26047808999999%2C%20127.03292421999998%5D%2C%20%5B37.259962450000025%2C%20127.03167355%5D%2C%20%5B37.25975059000006%2C%20127.03160998999996%5D%2C%20%5B37.25905081000003%2C%20127.03080385999998%5D%2C%20%5B37.25952251999999%2C%20127.03066503000001%5D%2C%20%5B37.26024640000003%2C%20127.02953375000001%5D%2C%20%5B37.26021228000002%2C%20127.02923684000001%5D%2C%20%5B37.260518660000045%2C%20127.02867106999999%5D%2C%20%5B37.26053758999995%2C%20127.02788409999997%5D%2C%20%5B37.26079552999998%2C%20127.02786066999997%5D%2C%20%5B37.261581930000006%2C%20127.02797563999998%5D%2C%20%5B37.26245367000002%2C%20127.02787009%5D%2C%20%5B37.26154782999999%2C%20127.02812338999999%5D%2C%20%5B37.261331700000035%2C%20127.02883338999997%5D%2C%20%5B37.26220674999999%2C%20127.02964097999998%5D%2C%20%5B37.262797639999995%2C%20127.02823775%5D%5D%2C%0A%20%20%20%20%20%20%20%20%20%20%20%20%20%20%20%20%7B%22bubblingMouseEvents%22%3A%20true%2C%20%22color%22%3A%20%22%233388ff%22%2C%20%22dashArray%22%3A%20null%2C%20%22dashOffset%22%3A%20null%2C%20%22fill%22%3A%20true%2C%20%22fillColor%22%3A%20%22blue%22%2C%20%22fillOpacity%22%3A%200.2%2C%20%22fillRule%22%3A%20%22evenodd%22%2C%20%22lineCap%22%3A%20%22round%22%2C%20%22lineJoin%22%3A%20%22round%22%2C%20%22noClip%22%3A%20false%2C%20%22opacity%22%3A%201.0%2C%20%22smoothFactor%22%3A%201.0%2C%20%22stroke%22%3A%20true%2C%20%22weight%22%3A%203%7D%0A%20%20%20%20%20%20%20%20%20%20%20%20%29.addTo%28map_ca889929705d44d68ece0ad17de9e08d%29%3B%0A%20%20%20%20%20%20%20%20%0A%3C/script%3E onload=\"this.contentDocument.open();this.contentDocument.write(    decodeURIComponent(this.getAttribute('data-html')));this.contentDocument.close();\" allowfullscreen webkitallowfullscreen mozallowfullscreen></iframe></div></div>"
      ],
      "text/plain": [
       "<folium.folium.Map at 0x1a6f16e18a0>"
      ]
     },
     "execution_count": 60,
     "metadata": {},
     "output_type": "execute_result"
    }
   ],
   "source": [
    "# show_users_map(j)\n",
    "# show_hull_map(hull)\n",
    "fmap"
   ]
  },
  {
   "cell_type": "code",
   "execution_count": null,
   "metadata": {},
   "outputs": [],
   "source": []
  }
 ],
 "metadata": {
  "interpreter": {
   "hash": "db53faad94d2cfdb988e84a5547f376fae6a50850d5b49986165ab71d693aa93"
  },
  "kernelspec": {
   "display_name": "Python 3.10.4 ('concave')",
   "language": "python",
   "name": "python3"
  },
  "language_info": {
   "codemirror_mode": {
    "name": "ipython",
    "version": 3
   },
   "file_extension": ".py",
   "mimetype": "text/x-python",
   "name": "python",
   "nbconvert_exporter": "python",
   "pygments_lexer": "ipython3",
   "version": "3.10.4"
  },
  "orig_nbformat": 4
 },
 "nbformat": 4,
 "nbformat_minor": 2
}
