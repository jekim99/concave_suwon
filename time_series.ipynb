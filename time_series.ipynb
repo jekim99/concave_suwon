{
 "cells": [
  {
   "cell_type": "code",
   "execution_count": 179,
   "metadata": {},
   "outputs": [],
   "source": [
    "import pandas as pd\n",
    "import numpy as np\n",
    "from math import radians, cos, sin, asin, sqrt\n",
    "import random\n",
    "import alphashape\n",
    "import geopandas as gpd\n",
    "from shapely.geometry import Point\n",
    "import matplotlib\n",
    "import pyproj\n",
    "import folium\n",
    "\n",
    "fire = (37.261672, 127.030887) # 300m radius\n",
    "fire_center = Point(fire[1], fire[0])\n",
    "fire_radius = 300 # m\n",
    "\n",
    "def get_geom_point(geom):\n",
    "\treturn (geom.y, geom.x)\n",
    "\n",
    "def haversine_distance(point, center, xy):\n",
    "\tif xy == True:\n",
    "\t\t# latitude, longitude\n",
    "\t\tlat1, lon1, lat2, lon2 = map(radians, [point[0], point[1], center[0], center[1]])\n",
    "\telse:\n",
    "\t\t# shapely point : longitude, latitude\n",
    "\t\tp = get_geom_point(point)\n",
    "\t\tc = get_geom_point(center)\n",
    "\t\tlat1, lon1, lat2, lon2 = map(radians, [p[0], p[1], c[0], c[1]])\n",
    "\t\t\n",
    "\tdel_lat = lat1 - lat2\n",
    "\tdel_lon = lon1 - lon2\n",
    "\n",
    "\ta = sin(del_lat / 2) ** 2 + cos(lat1) * cos(lat2) * sin(del_lon / 2) **2\n",
    "\tc = 2 * asin(sqrt(a))\n",
    "\tr = 6371 # radius of earth in km\n",
    "\treturn c * r * 1000 #return m"
   ]
  },
  {
   "cell_type": "code",
   "execution_count": 180,
   "metadata": {},
   "outputs": [],
   "source": [
    "def get_data():\n",
    "\td_list = []\n",
    "\tfor i in range(0, 5):\n",
    "\t\tfilename = \"./data/time_random\" + str(i) + \".csv\"\n",
    "\t\td = pd.read_csv(filename, usecols=['latitude', 'longitude']).values.tolist()\n",
    "\t\tif i > 0:\n",
    "\t\t\tfor point in d:\n",
    "\t\t\t\tif haversine_distance(point, fire, xy=True) <= i * 100:\n",
    "\t\t\t\t\tif random.random() < 0.9:\n",
    "\t\t\t\t\t\td.remove(point)\n",
    "\t\t# print(len(d))\n",
    "\t\td_list.append(d)\n",
    "\n",
    "\treturn d_list\n",
    "\n",
    "d_list = get_data()"
   ]
  },
  {
   "cell_type": "code",
   "execution_count": null,
   "metadata": {},
   "outputs": [],
   "source": [
    "fmap = folium.Map(location=fire, tiles=\"Stamen Toner\", zoom_start=17, width=800, height=600)\n",
    "folium.Circle(fire, tooltip='fire', radius=300, color='red', fill_color='red').add_to(fmap)"
   ]
  },
  {
   "cell_type": "code",
   "execution_count": null,
   "metadata": {},
   "outputs": [],
   "source": [
    "def show_users_map(data):\n",
    "\tfor u in data:\n",
    "\t\tfolium.Circle(u, radius=2).add_to(fmap)\n",
    "\n",
    "def show_hull_map(hull):\n",
    "\ta = hull.iat[0, 0].exterior.coords\n",
    "\thull_print = [(a[i][1], a[i][0]) for i in range(0, len(a))]\n",
    "\tfolium.Polygon(hull_print, fill_color='blue').add_to(fmap)\n"
   ]
  },
  {
   "cell_type": "code",
   "execution_count": 181,
   "metadata": {},
   "outputs": [],
   "source": [
    "def initial_users(d_list):\n",
    "\tinside_points = [(i, Point(d_list[i][1], d_list[i][0])) for i in range(0, len(d_list)) if haversine_distance(d_list[i], fire, xy=True) <= fire_radius]\n",
    "\tinitial_user = gpd.GeoDataFrame(inside_points, columns=['id', 'geometry'], crs=4326)\n",
    "\treturn initial_user"
   ]
  },
  {
   "cell_type": "code",
   "execution_count": 182,
   "metadata": {},
   "outputs": [],
   "source": [
    "def new_incomer(d_list):\n",
    "\tinside_points = [(i, Point(d_list[i][1], d_list[i][0])) for i in range(0, len(d_list)) if haversine_distance(d_list[i], fire, xy=True) <= fire_radius]\n",
    "\tincomer_user = gpd.GeoDataFrame(inside_points, columns=['id', 'geometry'], crs=4326)\n",
    "\treturn incomer_user"
   ]
  },
  {
   "cell_type": "code",
   "execution_count": 197,
   "metadata": {},
   "outputs": [],
   "source": [
    "def generate_hull(insider, incomer):\n",
    "\t# '+proj=aea +lat_1=29.5 +lat_2=42.5'\n",
    "\t# proj_gdf = gdf.to_crs('epsg:5179')\n",
    "\t# print(proj_gdf.iat[2, 0].distance(proj_gdf.iat[3, 0]))\n",
    "\n",
    "\t# for point in gdf['geometry']:\n",
    "\t# \tif haversine_distance(point, fire_center, xy=False) <= (j + 1) * 100:\n",
    "\n",
    "\tprint(insider['id'])\n",
    "\tprint(incomer['id'])\n",
    "\t# new = pd.concat([insider, incomer]).drop_duplicates()\n",
    "\t# print(new)\n",
    "\n",
    "\n",
    "\t# inside_points = gdf[haversine_distance(gdf['geometry'], fire_center, xy=False) <= (j + 1) * 100]\n",
    "\t# print(inside_points)\n",
    "\t# [p for p in gdf['geometry'] if haversine_distance(p, fire_center, xy=False) <= (j + 1) * 100]\n",
    "\t# inside_gdf = gpd.GeoDataFrame({'geometry':inside_points}, crs=4326).to_crs('+proj=aea +lat_1=29.5 +lat_2=42.5')\n",
    "\t# hull = alphashape.alphashape(inside_gdf)\n",
    "\t# hull = hull.to_crs('epsg:4326')\n",
    "\t# return hull"
   ]
  },
  {
   "cell_type": "code",
   "execution_count": 198,
   "metadata": {},
   "outputs": [
    {
     "name": "stdout",
     "output_type": "stream",
     "text": [
      "0        0\n",
      "1        6\n",
      "2        9\n",
      "3       19\n",
      "4       20\n",
      "      ... \n",
      "137    484\n",
      "138    487\n",
      "139    493\n",
      "140    497\n",
      "141    498\n",
      "Name: id, Length: 142, dtype: int64\n",
      "0        0\n",
      "1        6\n",
      "2        7\n",
      "3        8\n",
      "4       11\n",
      "      ... \n",
      "116    552\n",
      "117    562\n",
      "118    577\n",
      "119    578\n",
      "120    580\n",
      "Name: id, Length: 121, dtype: int64\n"
     ]
    }
   ],
   "source": [
    "insider = initial_users(d_list[0])\n",
    "for i in range(1, 2):\n",
    "\tincomer = new_incomer(d_list[i])\n",
    "\thull = generate_hull(insider, incomer)"
   ]
  },
  {
   "cell_type": "code",
   "execution_count": null,
   "metadata": {},
   "outputs": [],
   "source": []
  }
 ],
 "metadata": {
  "interpreter": {
   "hash": "db53faad94d2cfdb988e84a5547f376fae6a50850d5b49986165ab71d693aa93"
  },
  "kernelspec": {
   "display_name": "Python 3.10.4 ('concave')",
   "language": "python",
   "name": "python3"
  },
  "language_info": {
   "codemirror_mode": {
    "name": "ipython",
    "version": 3
   },
   "file_extension": ".py",
   "mimetype": "text/x-python",
   "name": "python",
   "nbconvert_exporter": "python",
   "pygments_lexer": "ipython3",
   "version": "3.10.4"
  },
  "orig_nbformat": 4
 },
 "nbformat": 4,
 "nbformat_minor": 2
}
