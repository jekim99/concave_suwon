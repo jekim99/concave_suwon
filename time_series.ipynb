{
 "cells": [
  {
   "cell_type": "code",
   "execution_count": 233,
   "metadata": {},
   "outputs": [],
   "source": [
    "import pandas as pd\n",
    "import numpy as np\n",
    "from math import radians, cos, sin, asin, sqrt\n",
    "import random\n",
    "import alphashape\n",
    "import geopandas as gpd\n",
    "from shapely.geometry import Point\n",
    "import matplotlib\n",
    "import pyproj\n",
    "import folium\n",
    "\n",
    "fire = (37.261672, 127.030887) # 300m radius\n",
    "fire_center = Point(fire[1], fire[0])\n",
    "fire_radius = 300 # m\n",
    "\n",
    "def get_geom_point(geom):\n",
    "\treturn (geom.y, geom.x)\n",
    "\n",
    "def haversine_distance(point, center, xy):\n",
    "\tif xy == True:\n",
    "\t\t# latitude, longitude\n",
    "\t\tlat1, lon1, lat2, lon2 = map(radians, [point[0], point[1], center[0], center[1]])\n",
    "\telse:\n",
    "\t\t# shapely point : longitude, latitude\n",
    "\t\tp = get_geom_point(point)\n",
    "\t\tc = get_geom_point(center)\n",
    "\t\tlat1, lon1, lat2, lon2 = map(radians, [p[0], p[1], c[0], c[1]])\n",
    "\t\t\n",
    "\tdel_lat = lat1 - lat2\n",
    "\tdel_lon = lon1 - lon2\n",
    "\n",
    "\ta = sin(del_lat / 2) ** 2 + cos(lat1) * cos(lat2) * sin(del_lon / 2) **2\n",
    "\tc = 2 * asin(sqrt(a))\n",
    "\tr = 6371 # radius of earth in km\n",
    "\treturn c * r * 1000 #return m"
   ]
  },
  {
   "cell_type": "code",
   "execution_count": 234,
   "metadata": {},
   "outputs": [],
   "source": [
    "def get_data():\n",
    "\td_list = []\n",
    "\tfor i in range(0, 5):\n",
    "\t\tfilename = \"./data/time_random\" + str(i) + \".csv\"\n",
    "\t\td = pd.read_csv(filename, usecols=['latitude', 'longitude']).values.tolist()\n",
    "\t\tif i > 0:\n",
    "\t\t\tfor point in d:\n",
    "\t\t\t\tif haversine_distance(point, fire, xy=True) <= i * 100:\n",
    "\t\t\t\t\tif random.random() < 0.9:\n",
    "\t\t\t\t\t\td.remove(point)\n",
    "\t\t# print(len(d))\n",
    "\t\td_list.append(d)\n",
    "\n",
    "\treturn d_list\n",
    "\n",
    "d_list = get_data()"
   ]
  },
  {
   "cell_type": "code",
   "execution_count": 235,
   "metadata": {},
   "outputs": [
    {
     "data": {
      "text/plain": [
       "<folium.vector_layers.Circle at 0x1a6fcfa0310>"
      ]
     },
     "execution_count": 235,
     "metadata": {},
     "output_type": "execute_result"
    }
   ],
   "source": [
    "fmap = folium.Map(location=fire, tiles=\"Stamen Toner\", zoom_start=17, width=800, height=600)\n",
    "folium.Circle(fire, tooltip='fire', radius=300, color='red', fill_color='red').add_to(fmap)"
   ]
  },
  {
   "cell_type": "code",
   "execution_count": 236,
   "metadata": {},
   "outputs": [],
   "source": [
    "def show_users_map(data, c):\n",
    "\tfor u in data:\n",
    "\t\tfolium.Circle(u, radius=2, color=c).add_to(fmap)\n",
    "\n",
    "def show_hull_map(hull):\n",
    "\ta = hull.iat[0, 0].exterior.coords\n",
    "\thull_print = [(a[i][1], a[i][0]) for i in range(0, len(a))]\n",
    "\tfolium.Polygon(hull_print, fill_color='blue').add_to(fmap)\n"
   ]
  },
  {
   "cell_type": "code",
   "execution_count": 237,
   "metadata": {},
   "outputs": [],
   "source": [
    "def initial_users(d_list):\n",
    "\t# inside_points = [(i, Point(d_list[i][1], d_list[i][0])) for i in range(0, len(d_list)) if haversine_distance(d_list[i], fire, xy=True) <= fire_radius]\n",
    "\t# initial_user = gpd.GeoDataFrame(inside_points, columns=['id', 'geometry'], crs=4326)\n",
    "\tinitial_user = [i for i in range(0, len(d_list)) if haversine_distance(d_list[i], fire, xy=True) <= fire_radius]\n",
    "\treturn initial_user"
   ]
  },
  {
   "cell_type": "code",
   "execution_count": 238,
   "metadata": {},
   "outputs": [],
   "source": [
    "def new_incomer(d_list):\n",
    "\t# inside_points = [(i, Point(d_list[i][1], d_list[i][0])) for i in range(0, len(d_list)) if haversine_distance(d_list[i], fire, xy=True) <= fire_radius]\n",
    "\t# incomer_user = gpd.GeoDataFrame(inside_points, columns=['id', 'geometry'], crs=4326)\n",
    "\tincomer_user = [i for i in range(0, len(d_list)) if haversine_distance(d_list[i], fire, xy=True) <= fire_radius]\n",
    "\treturn incomer_user"
   ]
  },
  {
   "cell_type": "code",
   "execution_count": 239,
   "metadata": {},
   "outputs": [],
   "source": [
    "def generate_hull(insider, incomer, d_list):\n",
    "\t# '+proj=aea +lat_1=29.5 +lat_2=42.5'\n",
    "\t# proj_gdf = gdf.to_crs('epsg:5179')\n",
    "\t# print(proj_gdf.iat[2, 0].distance(proj_gdf.iat[3, 0]))\n",
    "\n",
    "\t# for point in gdf['geometry']:\n",
    "\t# \tif haversine_distance(point, fire_center, xy=False) <= (j + 1) * 100:\n",
    "\n",
    "\n",
    "\ttarget = list(set(insider + incomer))\n",
    "\tpoints = [(t, Point(d_list[t][1], d_list[t][0])) for t in target]\n",
    "\tgdf = gpd.GeoDataFrame(points, columns=['id', 'geometry'], crs=4326).to_crs('+proj=aea +lat_1=29.5 +lat_2=42.5')\n",
    "\n",
    "\thull = alphashape.alphashape(gdf)\n",
    "\thull = hull.to_crs('epsg:4326')\n",
    "\t# new = pd.concat([insider, incomer]).drop_duplicates()\n",
    "\t# print(new)\n",
    "\n",
    "\n",
    "\t# inside_points = gdf[haversine_distance(gdf['geometry'], fire_center, xy=False) <= (j + 1) * 100]\n",
    "\t# print(inside_points)\n",
    "\t# [p for p in gdf['geometry'] if haversine_distance(p, fire_center, xy=False) <= (j + 1) * 100]\n",
    "\t# inside_gdf = gpd.GeoDataFrame({'geometry':inside_points}, crs=4326).to_crs('+proj=aea +lat_1=29.5 +lat_2=42.5')\n",
    "\t# hull = alphashape.alphashape(inside_gdf)\n",
    "\t# hull = hull.to_crs('epsg:4326')\n",
    "\treturn hull"
   ]
  },
  {
   "cell_type": "code",
   "execution_count": 240,
   "metadata": {},
   "outputs": [
    {
     "name": "stderr",
     "output_type": "stream",
     "text": [
      "C:\\Users\\Jaeeun Kim\\anaconda3\\envs\\concave\\lib\\site-packages\\shapely\\ops.py:42: ShapelyDeprecationWarning: Iteration over multi-part geometries is deprecated and will be removed in Shapely 2.0. Use the `geoms` property to access the constituent parts of a multi-part geometry.\n",
      "  source = iter(source)\n",
      "C:\\Users\\Jaeeun Kim\\anaconda3\\envs\\concave\\lib\\site-packages\\alphashape\\optimizealpha.py:41: ShapelyDeprecationWarning: Iteration over multi-part geometries is deprecated and will be removed in Shapely 2.0. Use the `geoms` property to access the constituent parts of a multi-part geometry.\n",
      "  return all([polygon.intersects(point) for point in points])\n",
      "C:\\Users\\Jaeeun Kim\\anaconda3\\envs\\concave\\lib\\site-packages\\shapely\\ops.py:42: ShapelyDeprecationWarning: Iteration over multi-part geometries is deprecated and will be removed in Shapely 2.0. Use the `geoms` property to access the constituent parts of a multi-part geometry.\n",
      "  source = iter(source)\n",
      "C:\\Users\\Jaeeun Kim\\anaconda3\\envs\\concave\\lib\\site-packages\\alphashape\\optimizealpha.py:41: ShapelyDeprecationWarning: Iteration over multi-part geometries is deprecated and will be removed in Shapely 2.0. Use the `geoms` property to access the constituent parts of a multi-part geometry.\n",
      "  return all([polygon.intersects(point) for point in points])\n",
      "C:\\Users\\Jaeeun Kim\\anaconda3\\envs\\concave\\lib\\site-packages\\shapely\\ops.py:42: ShapelyDeprecationWarning: Iteration over multi-part geometries is deprecated and will be removed in Shapely 2.0. Use the `geoms` property to access the constituent parts of a multi-part geometry.\n",
      "  source = iter(source)\n",
      "C:\\Users\\Jaeeun Kim\\anaconda3\\envs\\concave\\lib\\site-packages\\alphashape\\optimizealpha.py:41: ShapelyDeprecationWarning: Iteration over multi-part geometries is deprecated and will be removed in Shapely 2.0. Use the `geoms` property to access the constituent parts of a multi-part geometry.\n",
      "  return all([polygon.intersects(point) for point in points])\n",
      "C:\\Users\\Jaeeun Kim\\anaconda3\\envs\\concave\\lib\\site-packages\\shapely\\ops.py:42: ShapelyDeprecationWarning: Iteration over multi-part geometries is deprecated and will be removed in Shapely 2.0. Use the `geoms` property to access the constituent parts of a multi-part geometry.\n",
      "  source = iter(source)\n",
      "C:\\Users\\Jaeeun Kim\\anaconda3\\envs\\concave\\lib\\site-packages\\alphashape\\optimizealpha.py:41: ShapelyDeprecationWarning: Iteration over multi-part geometries is deprecated and will be removed in Shapely 2.0. Use the `geoms` property to access the constituent parts of a multi-part geometry.\n",
      "  return all([polygon.intersects(point) for point in points])\n"
     ]
    },
    {
     "ename": "TypeError",
     "evalue": "list indices must be integers or slices, not str",
     "output_type": "error",
     "traceback": [
      "\u001b[1;31m---------------------------------------------------------------------------\u001b[0m",
      "\u001b[1;31mTypeError\u001b[0m                                 Traceback (most recent call last)",
      "\u001b[1;32md:\\code\\concave\\time_series.ipynb Cell 8'\u001b[0m in \u001b[0;36m<cell line: 2>\u001b[1;34m()\u001b[0m\n\u001b[0;32m     <a href='vscode-notebook-cell:/d%3A/code/concave/time_series.ipynb#ch0000004?line=9'>10</a>\u001b[0m \tc \u001b[39m=\u001b[39m \u001b[39m'\u001b[39m\u001b[39mgreen\u001b[39m\u001b[39m'\u001b[39m\n\u001b[0;32m     <a href='vscode-notebook-cell:/d%3A/code/concave/time_series.ipynb#ch0000004?line=10'>11</a>\u001b[0m \u001b[39melse\u001b[39;00m: i \u001b[39m=\u001b[39m \u001b[39m'\u001b[39m\u001b[39mblack\u001b[39m\u001b[39m'\u001b[39m\n\u001b[1;32m---> <a href='vscode-notebook-cell:/d%3A/code/concave/time_series.ipynb#ch0000004?line=11'>12</a>\u001b[0m show_users_map(d_list[i], c)\n\u001b[0;32m     <a href='vscode-notebook-cell:/d%3A/code/concave/time_series.ipynb#ch0000004?line=12'>13</a>\u001b[0m show_hull_map(hull)\n\u001b[0;32m     <a href='vscode-notebook-cell:/d%3A/code/concave/time_series.ipynb#ch0000004?line=13'>14</a>\u001b[0m fmap\n",
      "\u001b[1;31mTypeError\u001b[0m: list indices must be integers or slices, not str"
     ]
    }
   ],
   "source": [
    "insider_id = initial_users(d_list[0])\n",
    "for i in range(1, len(d_list)):\n",
    "\tincomer_id = new_incomer(d_list[i])\n",
    "\thull = generate_hull(insider_id, incomer_id, d_list[i])\n",
    "\tif i == 1:\n",
    "\t\tc = 'red'\n",
    "\telif i == 2:\n",
    "\t\tc = 'blue'\n",
    "\telif i == 3:\n",
    "\t\tc = 'green'\n",
    "\telse:\n",
    "\t\tc = 'black'\n",
    "\tshow_users_map(d_list[i], c)\n",
    "\tshow_hull_map(hull)\n",
    "\tfmap\n"
   ]
  },
  {
   "cell_type": "code",
   "execution_count": null,
   "metadata": {},
   "outputs": [],
   "source": []
  },
  {
   "cell_type": "code",
   "execution_count": null,
   "metadata": {},
   "outputs": [],
   "source": [
    "fmap"
   ]
  },
  {
   "cell_type": "code",
   "execution_count": null,
   "metadata": {},
   "outputs": [],
   "source": []
  }
 ],
 "metadata": {
  "interpreter": {
   "hash": "db53faad94d2cfdb988e84a5547f376fae6a50850d5b49986165ab71d693aa93"
  },
  "kernelspec": {
   "display_name": "Python 3.10.4 ('concave')",
   "language": "python",
   "name": "python3"
  },
  "language_info": {
   "codemirror_mode": {
    "name": "ipython",
    "version": 3
   },
   "file_extension": ".py",
   "mimetype": "text/x-python",
   "name": "python",
   "nbconvert_exporter": "python",
   "pygments_lexer": "ipython3",
   "version": "3.10.4"
  },
  "orig_nbformat": 4
 },
 "nbformat": 4,
 "nbformat_minor": 2
}
